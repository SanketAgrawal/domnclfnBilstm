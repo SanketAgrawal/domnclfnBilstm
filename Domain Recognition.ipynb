{
 "cells": [
  {
   "cell_type": "markdown",
   "metadata": {},
   "source": [
    "# Steps to execute the notebook\n",
    "<ol>\n",
    "    <li>Change Global variables depending upon the training phase and testing phase.</li>\n",
    "    <li>Change gloabal variable CREATE_OBJECTS to true in case the objects are not created.</li>\n",
    "    <li>Once the objects are created copy those objects in the same folder where this notebook is present.</li>\n",
    "    \n",
    "</ol>"
   ]
  },
  {
   "cell_type": "code",
   "execution_count": null,
   "metadata": {
    "ExecuteTime": {
     "end_time": "2020-08-05T05:51:00.584200Z",
     "start_time": "2020-08-05T05:51:00.571100Z"
    }
   },
   "outputs": [],
   "source": [
    "from IPython.core.display import display, HTML\n",
    "display(HTML(\"<style>.container { width:100% !important; }</style>\"))"
   ]
  },
  {
   "cell_type": "markdown",
   "metadata": {},
   "source": [
    "# Install & Import Python libraries"
   ]
  },
  {
   "cell_type": "code",
   "execution_count": null,
   "metadata": {},
   "outputs": [],
   "source": [
    "!conda install pandas numpy matplotlib seaborn scikit-learn keras"
   ]
  },
  {
   "cell_type": "code",
   "execution_count": null,
   "metadata": {
    "ExecuteTime": {
     "end_time": "2020-08-05T05:58:22.004213Z",
     "start_time": "2020-08-05T05:58:21.980796Z"
    },
    "colab": {},
    "colab_type": "code",
    "id": "xuO_t03qbKjn",
    "scrolled": true
   },
   "outputs": [],
   "source": [
    "import numpy as np\n",
    "import pandas as pd\n",
    "import utils\n",
    "import datetime\n",
    "import os\n",
    "import matplotlib.pyplot as plt\n",
    "import seaborn as sns    \n",
    "\n",
    "from sklearn.metrics import confusion_matrix\n",
    "from sklearn.model_selection import train_test_split\n",
    "from sklearn.metrics import precision_recall_fscore_support as score\n",
    "\n",
    "from tensorflow.keras.models import Sequential\n",
    "from tensorflow.keras.layers import Dense, Flatten, Embedding, LSTM, Bidirectional ,Input\n",
    "from tensorflow.keras.utils import to_categorical\n",
    "from tensorflow.keras.models import load_model, Model\n",
    "import tensorflow\n",
    "\n",
    "import warnings\n",
    "import gc\n",
    "\n",
    "warnings.simplefilter(\"ignore\")\n",
    "gc.enable()"
   ]
  },
  {
   "cell_type": "markdown",
   "metadata": {},
   "source": [
    "# Global Variables"
   ]
  },
  {
   "cell_type": "code",
   "execution_count": null,
   "metadata": {
    "ExecuteTime": {
     "end_time": "2020-08-05T05:51:37.861669Z",
     "start_time": "2020-08-05T05:51:37.855447Z"
    }
   },
   "outputs": [],
   "source": [
    "CREATE_OBJECTS = False\n",
    "TRAIN = False\n",
    "VERBOSE = False\n",
    "MODEL = 'domain_model_lstm.h5'"
   ]
  },
  {
   "cell_type": "markdown",
   "metadata": {},
   "source": [
    "# Create the vocabulary, embedding matrix, and generate the pre-processed dataset from raw text files"
   ]
  },
  {
   "cell_type": "code",
   "execution_count": null,
   "metadata": {
    "ExecuteTime": {
     "end_time": "2020-08-05T05:52:38.477817Z",
     "start_time": "2020-08-05T05:51:39.064390Z"
    }
   },
   "outputs": [],
   "source": [
    "# 1. Download the glove evectors from http://nlp.stanford.edu/data/glove.840B.300d.zip\n",
    "# 2. Unzip the downloaded file\n",
    "# 3. Copy the path of unziped text file\n",
    "# 4. Paste the path at line no. 59 of utils.py\n",
    "if CREATE_OBJECTS:\n",
    "    utils.create_tde_objects()\n",
    "    utils.create_dataset()"
   ]
  },
  {
   "cell_type": "code",
   "execution_count": null,
   "metadata": {
    "ExecuteTime": {
     "end_time": "2020-08-05T05:54:23.243827Z",
     "start_time": "2020-08-05T05:54:23.227872Z"
    }
   },
   "outputs": [],
   "source": [
    "X = []\n",
    "Y = []\n",
    "y=[]\n",
    "sentences = []\n",
    "\n",
    "directory = './dataset/data/'\n",
    "labels = {}\n",
    "labels['religious'] = 0\n",
    "labels['medical'] = 1\n",
    "labels['business'] = 2\n",
    "labels['political'] = 3\n",
    "labels['personal'] = 4\n",
    "labels['research'] = 5\n",
    "labels['sports'] = 6\n",
    "labels['terror'] = 7"
   ]
  },
  {
   "cell_type": "markdown",
   "metadata": {},
   "source": [
    "# Load the Dataset"
   ]
  },
  {
   "cell_type": "code",
   "execution_count": null,
   "metadata": {
    "ExecuteTime": {
     "end_time": "2020-08-05T05:54:47.276124Z",
     "start_time": "2020-08-05T05:54:46.485619Z"
    }
   },
   "outputs": [],
   "source": [
    "\n",
    "if os.path.exists('./X.npy') and os.path.exists('./Y.npy') and os.path.exists('./y.npy'):\n",
    "    X = np.load('X.npy')\n",
    "    Y = np.load('Y.npy')\n",
    "    y = np.load('y.npy')\n",
    "    with open('sentences.txt', 'a+') as fp:\n",
    "        global sentences\n",
    "        sentences = fp.readlines()\n",
    "else:\n",
    "    t = utils.load_pickle_object('tokenizer_small.pickle')\n",
    "\n",
    "    for file in os.listdir(directory):\n",
    "        if labels[file.split('_')[0]] not in [-1]:\n",
    "            doc = np.load(directory+file)\n",
    "            sentences.append(t.sequences_to_texts([doc]))\n",
    "            X.append(doc)\n",
    "            Y.append(to_categorical(labels[file.split('_')[0]], 8))\n",
    "            y.append(labels[file.split('_')[0]])\n",
    "\n",
    "    X, Y, y = np.array(X), np.array(Y), np.array(y)\n",
    "\n",
    "    print(\"Shape of X train:\", X.shape, \"Shape of Y train(8):\", Y.shape)\n",
    "\n",
    "    np.save('X', X)\n",
    "    np.save('Y', Y)\n",
    "    np.save('y', y)\n",
    "    \n",
    "    del doc\n",
    "    del t\n",
    "    \n",
    "gc.collect(2)"
   ]
  },
  {
   "cell_type": "code",
   "execution_count": null,
   "metadata": {
    "ExecuteTime": {
     "end_time": "2020-08-05T05:54:53.713169Z",
     "start_time": "2020-08-05T05:54:53.394704Z"
    }
   },
   "outputs": [],
   "source": [
    "# Calculate the weight matrix\n",
    "weights = dict(1/(pd.Series(y).value_counts()/pd.Series(y).value_counts().sum()))\n",
    "print(weights)"
   ]
  },
  {
   "cell_type": "code",
   "execution_count": null,
   "metadata": {
    "ExecuteTime": {
     "end_time": "2020-08-05T05:58:29.865954Z",
     "start_time": "2020-08-05T05:58:29.188642Z"
    }
   },
   "outputs": [],
   "source": [
    "if not os.path.exists(MODEL):\n",
    "    \n",
    "    sequence_input = Input(shape=(65,), dtype='float32')\n",
    "    embedded_sequences = Embedding(202076, 65, input_length = 65, trainable = True)(sequence_input)\n",
    "    \n",
    "    l_bilstm = Bidirectional(LSTM(32))(embedded_sequences)\n",
    "    \n",
    "#     l_flat = Flatten()(l_bilstm)\n",
    "    \n",
    "    l_dense = Dense(64, activation='relu')(l_bilstm)\n",
    "    preds = Dense(8, activation='softmax')(l_dense)\n",
    "    \n",
    "    model = Model(sequence_input, preds)\n",
    "    \n",
    "    \n",
    "else:\n",
    "    print(\"Loading the model...\", MODEL)\n",
    "    model = load_model(MODEL)\n",
    "\n",
    "# Define the callbacks\n",
    "\n",
    "chkpt = tensorflow.keras.callbacks.ModelCheckpoint(MODEL, monitor='val_loss', verbose=1, save_best_only=True)\n",
    "erlystpng = tensorflow.keras.callbacks.EarlyStopping(patience = 100)\n",
    "optimizer = tensorflow.keras.optimizers.Adam(0.00001, epsilon=0.000001)\n",
    "model.compile(loss='categorical_crossentropy', metrics=['acc'], optimizer=optimizer)\n",
    "\n",
    "\n",
    "print(model.summary())\n",
    "\n",
    "gc.collect(2)"
   ]
  },
  {
   "cell_type": "code",
   "execution_count": null,
   "metadata": {
    "ExecuteTime": {
     "end_time": "2020-08-05T06:07:00.110557Z",
     "start_time": "2020-08-05T06:06:56.959729Z"
    },
    "scrolled": true
   },
   "outputs": [],
   "source": [
    "X_train, X_val, Y_train, Y_val, y_train, y_val = train_test_split(X, Y, y, test_size=0.1)\n",
    "if TRAIN:\n",
    "    try:\n",
    "        model.fit(X_train, Y_train, epochs=300, verbose=1, callbacks = [erlystpng, chkpt], batch_size=64, validation_data=(X_val, Y_val), class_weight = weights)\n",
    "    finally:\n",
    "        model.save('final_'+MODEL)\n",
    "else:\n",
    "    model.evaluate(X_val, Y_val, verbose=1, batch_size=8)"
   ]
  }
 ],
 "metadata": {
  "kernelspec": {
   "display_name": "Python 3",
   "language": "python",
   "name": "python3"
  },
  "language_info": {
   "codemirror_mode": {
    "name": "ipython",
    "version": 3
   },
   "file_extension": ".py",
   "mimetype": "text/x-python",
   "name": "python",
   "nbconvert_exporter": "python",
   "pygments_lexer": "ipython3",
   "version": "3.7.7"
  },
  "varInspector": {
   "cols": {
    "lenName": 16,
    "lenType": 16,
    "lenVar": 40
   },
   "kernels_config": {
    "python": {
     "delete_cmd_postfix": "",
     "delete_cmd_prefix": "del ",
     "library": "var_list.py",
     "varRefreshCmd": "print(var_dic_list())"
    },
    "r": {
     "delete_cmd_postfix": ") ",
     "delete_cmd_prefix": "rm(",
     "library": "var_list.r",
     "varRefreshCmd": "cat(var_dic_list()) "
    }
   },
   "types_to_exclude": [
    "module",
    "function",
    "builtin_function_or_method",
    "instance",
    "_Feature"
   ],
   "window_display": false
  }
 },
 "nbformat": 4,
 "nbformat_minor": 2
}
